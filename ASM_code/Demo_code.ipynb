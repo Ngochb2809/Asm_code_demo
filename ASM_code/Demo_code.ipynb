{
 "cells": [
  {
   "cell_type": "code",
   "execution_count": 1,
   "metadata": {},
   "outputs": [
    {
     "name": "stdout",
     "output_type": "stream",
     "text": [
      "Done\n"
     ]
    }
   ],
   "source": [
    "import csv\n",
    "f = open('../ASM/Anime.csv', 'r', encoding=\"utf-8\")\n",
    "reader = csv.reader(f)\n",
    "header = next(reader)\n",
    "del header[16]\n",
    "del header[11]\n",
    "del header[7]\n",
    "del header[6]\n",
    "del header[2]\n",
    "header.append(\"Quantity Voice Actor\")\n",
    "fw = open('../ASM/Anime_new_1.csv', 'w', encoding=\"utf-8\")\n",
    "writer = csv.writer(fw)\n",
    "writer.writerow(header)\n",
    "for row in reader:\n",
    "    del row[16]\n",
    "    del row[11]\n",
    "    del row[7]\n",
    "    del row[6]\n",
    "    del row[2]\n",
    "    if row[6] != '':\n",
    "        row[6] = int(float(row[6])) # row \"Release_year\"\n",
    "    # row[7] = int(float(row[7])) # row \"End_year\"\n",
    "    if row[4] == '':\n",
    "        row[4] = 'Unknown'\n",
    "    if row[7] == '':\n",
    "        row[7] = 'Still on air'\n",
    "    if row[7] != 'Still on air':\n",
    "        row[7] = int(float(row[7]))\n",
    "    if row[8] == '':\n",
    "        row[8] = 'No content warning'\n",
    "    if row[9] == '':\n",
    "        row[9] = 'Original Anime'\n",
    "    if row[10] == '':\n",
    "        row[10] = 'No related anime'\n",
    "    if row[11] == '':\n",
    "        row[11] = 'Unknown'\n",
    "    # Covert str to list\n",
    "    str = row[11].split(',')\n",
    "    # Get the number voice actor\n",
    "    quantity_va = len(str)\n",
    "    #add quantity voice actor number row\n",
    "    row.append(quantity_va)\n",
    "    # write row in the clean csv\n",
    "    writer.writerow(row)\n",
    "\n",
    "print(\"Done\")\n",
    "# close old file and new file\n",
    "f.close()\n",
    "fw.close()"
   ]
  },
  {
   "cell_type": "code",
   "execution_count": null,
   "metadata": {},
   "outputs": [],
   "source": [
    "\n"
   ]
  }
 ],
 "metadata": {
  "kernelspec": {
   "display_name": "Python 3",
   "language": "python",
   "name": "python3"
  },
  "language_info": {
   "codemirror_mode": {
    "name": "ipython",
    "version": 3
   },
   "file_extension": ".py",
   "mimetype": "text/x-python",
   "name": "python",
   "nbconvert_exporter": "python",
   "pygments_lexer": "ipython3",
   "version": "3.10.8"
  },
  "orig_nbformat": 4
 },
 "nbformat": 4,
 "nbformat_minor": 2
}

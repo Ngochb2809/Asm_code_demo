{
 "cells": [
  {
   "cell_type": "code",
   "execution_count": 13,
   "metadata": {},
   "outputs": [
    {
     "name": "stdout",
     "output_type": "stream",
     "text": [
      "Done\n"
     ]
    }
   ],
   "source": [
    "import csv\n",
    "file = open('../ASM/AnimeList.csv', 'r', encoding=\"utf-8\")\n",
    "reader = csv.reader(file)\n",
    "header = next(reader)\n",
    "del header[3]\n",
    "header.append(\"Duaration\")\n",
    "# del header[11]\n",
    "# del header[7]\n",
    "# del header[6]\n",
    "# del header[2]\n",
    "fw1 = open('../ASM/AnimeList_new_1.csv', 'w', encoding=\"utf-8\")\n",
    "writer = csv.writer(fw1)\n",
    "writer.writerow(header)\n",
    "for row in reader:\n",
    "    del row[3]\n",
    "    if row[4] == 'Unknown':\n",
    "        row[4] = '0'\n",
    "    if row[5] == 'Unknown':\n",
    "        row[5] = '0'\n",
    "    row[12] = row[12].split('-')[0]\n",
    "    row[5] = row[5].split(' ')[0]\n",
    "    duration = float(row[4]) * float(row[5])\n",
    "    row.append(duration)\n",
    "    writer.writerow(row)\n",
    "print(\"Done\")\n",
    "# close old file and new file\n",
    "file.close()\n",
    "fw1.close()"
   ]
  }
 ],
 "metadata": {
  "kernelspec": {
   "display_name": "Python 3",
   "language": "python",
   "name": "python3"
  },
  "language_info": {
   "codemirror_mode": {
    "name": "ipython",
    "version": 3
   },
   "file_extension": ".py",
   "mimetype": "text/x-python",
   "name": "python",
   "nbconvert_exporter": "python",
   "pygments_lexer": "ipython3",
   "version": "3.10.8"
  },
  "orig_nbformat": 4
 },
 "nbformat": 4,
 "nbformat_minor": 2
}
